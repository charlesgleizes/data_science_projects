{
 "cells": [
  {
   "cell_type": "markdown",
   "id": "1a3f06cf",
   "metadata": {},
   "source": [
    "# Libraries importation"
   ]
  },
  {
   "cell_type": "code",
   "execution_count": 36,
   "id": "93b9348a",
   "metadata": {},
   "outputs": [],
   "source": [
    "import scipy\n",
    "import pyarrow #to read parquets\n",
    "import problem #to import the training and test datasets\n",
    "import time\n",
    "\n",
    "import pandas as pd\n",
    "import numpy as np\n",
    "from pathlib import Path\n",
    "import matplotlib.pyplot as plt\n",
    "\n",
    "from sklearn.preprocessing import FunctionTransformer, OneHotEncoder, StandardScaler, OrdinalEncoder\n",
    "\n",
    "from sklearn.pipeline import make_pipeline\n",
    "from sklearn.compose import ColumnTransformer\n",
    "from sklearn.model_selection import GridSearchCV, TimeSeriesSplit, cross_val_score\n",
    "from sklearn.inspection import permutation_importance\n",
    "\n",
    "from sklearn.experimental import enable_hist_gradient_boosting\n",
    "from sklearn.ensemble import HistGradientBoostingRegressor, RandomForestRegressor\n",
    "\n",
    "#import lightgbm as lgb \n",
    "#from xgboost import XGBRegressor"
   ]
  },
  {
   "cell_type": "markdown",
   "id": "1ebeb6ae",
   "metadata": {},
   "source": [
    "# Data importation"
   ]
  },
  {
   "cell_type": "code",
   "execution_count": 9,
   "id": "06dda862",
   "metadata": {},
   "outputs": [],
   "source": [
    "data = pd.read_parquet(\"/Users/Antoine/Desktop/Cours/X-HEC/Cours/Data_with_Python/Bike_project/data/train.parquet\")\n",
    "data_test = pd.read_parquet(\"/Users/Antoine/Desktop/Cours/X-HEC/Cours/Data_with_Python/Bike_project/data/test.parquet\")\n",
    "data.to_csv('/Users/Antoine/Desktop/Cours/X-HEC/Cours/Data_with_Python/Bike_project/submissions/with_covid/data_test.csv')"
   ]
  },
  {
   "cell_type": "markdown",
   "id": "a61beb23",
   "metadata": {},
   "source": [
    "# Data preprocessing"
   ]
  },
  {
   "cell_type": "markdown",
   "id": "982c7627",
   "metadata": {},
   "source": [
    "## Adding external data"
   ]
  },
  {
   "cell_type": "code",
   "execution_count": 14,
   "id": "c751aa1f",
   "metadata": {},
   "outputs": [],
   "source": [
    "def _merge_external_data(X):\n",
    "    import math\n",
    "    __file__ = Path('submissions') /  'starting_kit' /  'estimator.py'\n",
    "    file_path = Path(__file__).parent / 'external_data.csv'\n",
    "    df_ext = pd.read_csv(file_path, parse_dates=['date'])\n",
    "    \n",
    "    X = X.copy()\n",
    "    # When using merge_asof left frame need to be sorted\n",
    "    X['orig_index'] = np.arange(X.shape[0])\n",
    "    features_to_add = ['date', 't', 'ww', 'w1', 'w2', 'n', 'tn12', 'tx12', 'rr1', 'rr3']\n",
    "    X = pd.merge_asof(X.sort_values('date'), df_ext[features_to_add].sort_values('date'), \n",
    "                      on='date', direction='nearest', tolerance=pd.Timedelta('3 hours'))\n",
    "    # Sort back to the original order\n",
    "    X = X.sort_values('orig_index')\n",
    "    del X['orig_index']\n",
    "    \n",
    "    #min temp & max temp : polynomial interpolation exept for the first missing data\n",
    "    X['tn12'] = X['tn12'].interpolate(limit_direction = \"both\", method = 'polynomial', order=2)\n",
    "    X['tx12'] = X['tx12'].interpolate(limit_direction = \"both\", method = 'polynomial', order=2)\n",
    "    \n",
    "    #min temp & max temp : linear interpolation for the first missing data\n",
    "    X['tn12'] = X['tn12'].interpolate(limit_direction = \"both\")\n",
    "    X['tx12'] = X['tx12'].interpolate(limit_direction = \"both\")\n",
    "    \n",
    "    #nebulosity & weather : linear interpolation\n",
    "    X['n'] = X['n'].interpolate(limit_direction = \"both\")\n",
    "    X['w1'] = X['w1'].interpolate(limit_direction = \"both\")\n",
    "    X['w2'] = X['w2'].interpolate(limit_direction = \"both\")\n",
    "    \n",
    "    #precipitations : negative->0 + linear interpolation\n",
    "    X.loc[X['rr1'] < 0, 'rr1'] = 0\n",
    "    X.loc[X['rr3'] < 0, 'rr3'] = 0\n",
    "\n",
    "    X['rr1'] = X['rr1'].interpolate(limit_direction = \"both\")\n",
    "    X['rr3'] = X['rr3'].interpolate(limit_direction = \"both\")\n",
    "    \n",
    "    return X"
   ]
  },
  {
   "cell_type": "code",
   "execution_count": 15,
   "id": "8a93c870",
   "metadata": {},
   "outputs": [],
   "source": [
    "def _encode_dates(X):\n",
    "    X = X.copy()  # modify a copy of X\n",
    "    # Encode the date information from the DateOfDeparture columns\n",
    "    X.loc[:, 'year'] = X['date'].dt.year\n",
    "    X.loc[:, 'month'] = X['date'].dt.month\n",
    "    X.loc[:, 'day'] = X['date'].dt.day\n",
    "    X.loc[:, 'weekday'] = X['date'].dt.weekday\n",
    "    X.loc[:, 'hour'] = X['date'].dt.hour\n",
    "\n",
    "    # Finally we can drop the original columns from the dataframe\n",
    "    return X"
   ]
  },
  {
   "cell_type": "code",
   "execution_count": 19,
   "id": "2cb321ae",
   "metadata": {},
   "outputs": [],
   "source": [
    "def add_weather_data(X):\n",
    "    X = X.copy()\n",
    "    \n",
    "    weather1 = pd.read_csv('/Users/Antoine/Desktop/Cours/X-HEC/Cours/Data_with_Python/Bike_project/data/weather_data_01092020_30042021.csv',\n",
    "                           parse_dates=['Date time'], \n",
    "                           dayfirst=False)\n",
    "    weather2 = pd.read_csv('/Users/Antoine/Desktop/Cours/X-HEC/Cours/Data_with_Python/Bike_project/data/weather_data_01052021_22102021.csv',\n",
    "                           parse_dates=['Date time'], \n",
    "                           dayfirst=False)\n",
    "\n",
    "    weather = pd.concat([weather1, weather2]) \n",
    "    weather = weather.rename(columns = {'Date time':'date'})\n",
    "    print(f'Date range :' + str((weather['date'].min(), weather['date'].max())))\n",
    "    \n",
    "    interesting_variables = ['Maximum Temperature', 'Minimum Temperature', 'Conditions', 'date']  \n",
    "    X = pd.merge_asof(X.sort_values('date'), weather[interesting_variables].sort_values('date'), on=['date'])\n",
    "\n",
    "    return X"
   ]
  },
  {
   "cell_type": "code",
   "execution_count": 17,
   "id": "c5d7dfd5",
   "metadata": {},
   "outputs": [],
   "source": [
    "def add_holidays(X):\n",
    "    holidays = pd.read_csv('/Users/Antoine/Desktop/Cours/X-HEC/Cours/Data_with_Python/Bike_project/data/vacances_zones.csv', \n",
    "                           parse_dates=['date'])\n",
    "\n",
    "    interesting_variables = ['date', 'vacances_zone_a', 'vacances_zone_b', 'vacances_zone_c']  \n",
    "    holidays[['vacances_zone_a', 'vacances_zone_b', 'vacances_zone_c']] = holidays[['vacances_zone_a', 'vacances_zone_b', 'vacances_zone_c']]*1\n",
    "\n",
    "    X = pd.merge_asof(X.sort_values('date'), holidays[interesting_variables].sort_values('date'), on=['date'])\n",
    "    \n",
    "    return X"
   ]
  },
  {
   "cell_type": "code",
   "execution_count": 20,
   "id": "9fb8300c",
   "metadata": {},
   "outputs": [
    {
     "name": "stdout",
     "output_type": "stream",
     "text": [
      "Date range :(Timestamp('2020-09-01 00:00:00'), Timestamp('2021-10-22 00:00:00'))\n"
     ]
    },
    {
     "data": {
      "text/html": [
       "<div>\n",
       "<style scoped>\n",
       "    .dataframe tbody tr th:only-of-type {\n",
       "        vertical-align: middle;\n",
       "    }\n",
       "\n",
       "    .dataframe tbody tr th {\n",
       "        vertical-align: top;\n",
       "    }\n",
       "\n",
       "    .dataframe thead th {\n",
       "        text-align: right;\n",
       "    }\n",
       "</style>\n",
       "<table border=\"1\" class=\"dataframe\">\n",
       "  <thead>\n",
       "    <tr style=\"text-align: right;\">\n",
       "      <th></th>\n",
       "      <th>counter_id</th>\n",
       "      <th>counter_name</th>\n",
       "      <th>site_id</th>\n",
       "      <th>site_name</th>\n",
       "      <th>bike_count</th>\n",
       "      <th>date</th>\n",
       "      <th>counter_installation_date</th>\n",
       "      <th>coordinates</th>\n",
       "      <th>counter_technical_id</th>\n",
       "      <th>latitude</th>\n",
       "      <th>...</th>\n",
       "      <th>month</th>\n",
       "      <th>day</th>\n",
       "      <th>weekday</th>\n",
       "      <th>hour</th>\n",
       "      <th>Maximum Temperature</th>\n",
       "      <th>Minimum Temperature</th>\n",
       "      <th>Conditions</th>\n",
       "      <th>vacances_zone_a</th>\n",
       "      <th>vacances_zone_b</th>\n",
       "      <th>vacances_zone_c</th>\n",
       "    </tr>\n",
       "  </thead>\n",
       "  <tbody>\n",
       "    <tr>\n",
       "      <th>0</th>\n",
       "      <td>100056332-104056332</td>\n",
       "      <td>Pont de Bercy SO-NE</td>\n",
       "      <td>100056332</td>\n",
       "      <td>Pont de Bercy</td>\n",
       "      <td>0.0</td>\n",
       "      <td>2020-09-01 01:00:00</td>\n",
       "      <td>2019-12-11</td>\n",
       "      <td>48.83848,2.37587</td>\n",
       "      <td>Y2H19070378</td>\n",
       "      <td>48.83848</td>\n",
       "      <td>...</td>\n",
       "      <td>9</td>\n",
       "      <td>1</td>\n",
       "      <td>1</td>\n",
       "      <td>1</td>\n",
       "      <td>21.4</td>\n",
       "      <td>11.5</td>\n",
       "      <td>Clear</td>\n",
       "      <td>0</td>\n",
       "      <td>0</td>\n",
       "      <td>0</td>\n",
       "    </tr>\n",
       "    <tr>\n",
       "      <th>1</th>\n",
       "      <td>100047542-103047542</td>\n",
       "      <td>Face au 48 quai de la marne NE-SO</td>\n",
       "      <td>100047542</td>\n",
       "      <td>Face au 48 quai de la marne</td>\n",
       "      <td>1.0</td>\n",
       "      <td>2020-09-01 01:00:00</td>\n",
       "      <td>2018-11-29</td>\n",
       "      <td>48.89172,2.38531</td>\n",
       "      <td>Y2H18086318</td>\n",
       "      <td>48.89172</td>\n",
       "      <td>...</td>\n",
       "      <td>9</td>\n",
       "      <td>1</td>\n",
       "      <td>1</td>\n",
       "      <td>1</td>\n",
       "      <td>21.4</td>\n",
       "      <td>11.5</td>\n",
       "      <td>Clear</td>\n",
       "      <td>0</td>\n",
       "      <td>0</td>\n",
       "      <td>0</td>\n",
       "    </tr>\n",
       "  </tbody>\n",
       "</table>\n",
       "<p>2 rows × 32 columns</p>\n",
       "</div>"
      ],
      "text/plain": [
       "            counter_id                       counter_name    site_id  \\\n",
       "0  100056332-104056332                Pont de Bercy SO-NE  100056332   \n",
       "1  100047542-103047542  Face au 48 quai de la marne NE-SO  100047542   \n",
       "\n",
       "                     site_name  bike_count                date  \\\n",
       "0                Pont de Bercy         0.0 2020-09-01 01:00:00   \n",
       "1  Face au 48 quai de la marne         1.0 2020-09-01 01:00:00   \n",
       "\n",
       "  counter_installation_date       coordinates counter_technical_id  latitude  \\\n",
       "0                2019-12-11  48.83848,2.37587          Y2H19070378  48.83848   \n",
       "1                2018-11-29  48.89172,2.38531          Y2H18086318  48.89172   \n",
       "\n",
       "   ...  month  day  weekday  hour  Maximum Temperature  Minimum Temperature  \\\n",
       "0  ...      9    1        1     1                 21.4                 11.5   \n",
       "1  ...      9    1        1     1                 21.4                 11.5   \n",
       "\n",
       "   Conditions  vacances_zone_a  vacances_zone_b  vacances_zone_c  \n",
       "0       Clear                0                0                0  \n",
       "1       Clear                0                0                0  \n",
       "\n",
       "[2 rows x 32 columns]"
      ]
     },
     "execution_count": 20,
     "metadata": {},
     "output_type": "execute_result"
    }
   ],
   "source": [
    "data1 = _merge_external_data(data)\n",
    "data2 = _encode_dates(data1)\n",
    "data3 = add_weather_data(data2)\n",
    "data4 = add_holidays(data3)\n",
    "\n",
    "data4.head(2)"
   ]
  },
  {
   "cell_type": "code",
   "execution_count": 21,
   "id": "3b992532",
   "metadata": {},
   "outputs": [
    {
     "name": "stdout",
     "output_type": "stream",
     "text": [
      "Date range : (Timestamp('2020-09-01 01:00:00'), Timestamp('2021-08-09 23:00:00')).\n"
     ]
    }
   ],
   "source": [
    "print(f\"Date range : {(data['date'].min(), data['date'].max())}.\")"
   ]
  },
  {
   "cell_type": "code",
   "execution_count": null,
   "id": "9f87a780",
   "metadata": {},
   "outputs": [],
   "source": [
    "# Creating the external data file\n",
    "data_ext3.to_csv('/Users/Antoine/Desktop/Cours/X-HEC/Cours/Data_with_Python/Bike_project/submissions/with_covid/external_data.csv')"
   ]
  },
  {
   "cell_type": "markdown",
   "id": "3958bd17",
   "metadata": {},
   "source": [
    "## Define the pipeline"
   ]
  },
  {
   "cell_type": "code",
   "execution_count": 33,
   "id": "70102a2a",
   "metadata": {},
   "outputs": [],
   "source": [
    "def _add_all_external_data(X):\n",
    "    #file_path = Path(__file__).parent / 'external_data.csv'\n",
    "    all_external_data = pd.read_csv('/Users/Antoine/Desktop/Cours/X-HEC/Cours/Data_with_Python/Bike_project/submissions/with_covid/external_data.csv', \n",
    "                                    parse_dates=['date'])\n",
    "\n",
    "    interesting_variables = ['Maximum Temperature', 'Minimum Temperature', 'Temperature',\n",
    "                             'Precipitation', 'Wind Speed', 'Cloud Cover', 'Conditions', \n",
    "                             'vacances_zone_a', 'vacances_zone_b', 'vacances_zone_c', 'day off',\n",
    "                             't', 'ww', 'w1', 'w2', 'n', 'tn12', 'tx12', 'rr1', 'rr3', \n",
    "                             'lockdown1', 'lockdown2', 'lockdown3',\n",
    "                             'date']\n",
    "    X = X.copy()\n",
    "    X['orig_index'] = np.arange(X.shape[0])    \n",
    "    X = pd.merge_asof(X.sort_values('date'), all_external_data[interesting_variables].sort_values('date'), on='date')\n",
    "    X = X.sort_values('orig_index')\n",
    "    del X['orig_index']\n",
    "\n",
    "    #min temp & max temp : polynomial interpolation exept for the first missing data\n",
    "    X['tn12'] = X['tn12'].interpolate(limit_direction = \"both\", method = 'polynomial', order=2)\n",
    "    X['tx12'] = X['tx12'].interpolate(limit_direction = \"both\", method = 'polynomial', order=2)\n",
    "    \n",
    "    #min temp & max temp : linear interpolation for the first missing data\n",
    "    X['tn12'] = X['tn12'].interpolate(limit_direction = \"both\")\n",
    "    X['tx12'] = X['tx12'].interpolate(limit_direction = \"both\")\n",
    "    \n",
    "    #nebulosity & weather : linear interpolation\n",
    "    X['n'] = X['n'].interpolate(limit_direction = \"both\")\n",
    "    X['w1'] = X['w1'].interpolate(limit_direction = \"both\")\n",
    "    X['w2'] = X['w2'].interpolate(limit_direction = \"both\")\n",
    "    \n",
    "    #precipitations : negative->0 + linear interpolation\n",
    "    X.loc[X['rr1'] < 0, 'rr1'] = 0\n",
    "    X.loc[X['rr3'] < 0, 'rr3'] = 0\n",
    "\n",
    "    X['rr1'] = X['rr1'].interpolate(limit_direction = \"both\")\n",
    "    X['rr3'] = X['rr3'].interpolate(limit_direction = \"both\")\n",
    "    \n",
    "    X[['vacances_zone_a', 'vacances_zone_b', 'vacances_zone_c']] = X[['vacances_zone_a', 'vacances_zone_b', 'vacances_zone_c']]*1\n",
    "    \n",
    "    return X\n",
    "\n",
    "def _encode_dates(X):\n",
    "    X = X.copy()  # modify a copy of X\n",
    "    \n",
    "    # Encode the date information from the DateOfDeparture columns\n",
    "    X.loc[:, 'year'] = X['date'].dt.year\n",
    "    X.loc[:, 'month'] = X['date'].dt.month\n",
    "    X.loc[:, 'day'] = X['date'].dt.day\n",
    "    X.loc[:, 'weekday'] = X['date'].dt.weekday\n",
    "    X.loc[:, 'hour'] = X['date'].dt.hour\n",
    "\n",
    "    #X.loc[:, 'year_inst'] = X['counter_installation_date'].dt.year\n",
    "    #X.loc[:, 'month_inst'] = X['counter_installation_date'].dt.month\n",
    "    \n",
    "    return X\n",
    "\n",
    "def get_estimator():\n",
    "    add_all_external_data = FunctionTransformer(_add_all_external_data)\n",
    "    date_encoder = FunctionTransformer(_encode_dates)\n",
    "\n",
    "    categorical_encoder = OneHotEncoder(handle_unknown=\"ignore\", sparse=False)\n",
    "    categorical_cols = [\"counter_id\", \"Conditions\", \"counter_installation_date\",\n",
    "                       'day off', 'vacances_zone_a', 'vacances_zone_b', 'vacances_zone_c', \n",
    "                       'lockdown1', 'lockdown2', 'lockdown3']\n",
    "    \n",
    "    date_cols = [\"year\", 'month', \"weekday\", 'hour']\n",
    "\n",
    "    \n",
    "    numerical_cols = ['t', 'tn12', 'tx12', 'w1', 'w2', 'n', 'rr1', 'rr3', \n",
    "                      'Temperature', 'Maximum Temperature', 'Minimum Temperature',\n",
    "                      'Precipitation', 'Wind Speed', 'Cloud Cover']\n",
    "\n",
    "    preprocessor = ColumnTransformer([(\"cat\", categorical_encoder, categorical_cols),\n",
    "                                      (\"num\", StandardScaler(), numerical_cols),\n",
    "                                      (\"date\", \"passthrough\", date_cols)])\n",
    "       \n",
    "    regressor = HistGradientBoostingRegressor(random_state=0)\n",
    "    #learning_rate=0.04, max_depth=6\n",
    "    \n",
    "    #regressor = XGBRegressor(n_estimators=100, early_stopping_rounds=5)\n",
    "\n",
    "    pipe = make_pipeline(add_all_external_data, \n",
    "                         date_encoder,\n",
    "                         preprocessor, \n",
    "                         regressor)\n",
    "\n",
    "    return pipe"
   ]
  },
  {
   "cell_type": "markdown",
   "id": "c9f8728f",
   "metadata": {},
   "source": [
    "## Tuning parameters with GridSearch"
   ]
  },
  {
   "cell_type": "code",
   "execution_count": 23,
   "id": "91574bd3",
   "metadata": {},
   "outputs": [],
   "source": [
    "categorical_encoder = OneHotEncoder(handle_unknown=\"ignore\", sparse=False)\n",
    "categorical_cols = [\"counter_id\", \"Conditions\", \"counter_installation_date\",\n",
    "                   'day off', 'vacances_zone_a', 'vacances_zone_b', 'vacances_zone_c']\n",
    "\n",
    "date_cols = [\"year\", 'month', \"weekday\", 'hour']\n",
    "\n",
    "\n",
    "numerical_cols = ['t', 'tn12', 'tx12', 'w1', 'w2', 'n', 'rr1', 'rr3']\n",
    "#'Temperature', 'Maximum Temperature', 'Minimum Temperature','Precipitation', 'Wind Speed', 'Cloud Cover',\n",
    "\n",
    "preprocessor = ColumnTransformer([(\"cat\", categorical_encoder, categorical_cols),\n",
    "                                  (\"num\", StandardScaler(), numerical_cols),\n",
    "                                  (\"date\", \"passthrough\", date_cols),\n",
    "                                  (\"y\", \"passthrough\", ['log_bike_count'])])\n",
    "\n",
    "grid_data = pd.DataFrame(preprocessor.fit_transform(_encode_dates(_add_all_external_data(data))))"
   ]
  },
  {
   "cell_type": "code",
   "execution_count": 24,
   "id": "8846bfbb",
   "metadata": {},
   "outputs": [],
   "source": [
    "raw_data = _encode_dates(_add_all_external_data(data))"
   ]
  },
  {
   "cell_type": "code",
   "execution_count": 25,
   "id": "0e9ce77e",
   "metadata": {},
   "outputs": [
    {
     "data": {
      "text/plain": [
       "Index(['counter_id', 'counter_name', 'site_id', 'site_name', 'bike_count',\n",
       "       'date', 'counter_installation_date', 'coordinates',\n",
       "       'counter_technical_id', 'latitude', 'longitude', 'Maximum Temperature',\n",
       "       'Minimum Temperature', 'Temperature', 'Precipitation', 'Wind Speed',\n",
       "       'Cloud Cover', 'Conditions', 'vacances_zone_a', 'vacances_zone_b',\n",
       "       'vacances_zone_c', 'day off', 't', 'ww', 'w1', 'w2', 'n', 'tn12',\n",
       "       'tx12', 'rr1', 'rr3', 'lockdown1', 'lockdown2', 'lockdown3', 'year',\n",
       "       'month', 'day', 'weekday', 'hour'],\n",
       "      dtype='object')"
      ]
     },
     "execution_count": 25,
     "metadata": {},
     "output_type": "execute_result"
    }
   ],
   "source": [
    "y = raw_data['log_bike_count']\n",
    "raw_data = raw_data.drop('log_bike_count', axis=1)\n",
    "raw_data.columns"
   ]
  },
  {
   "cell_type": "code",
   "execution_count": 29,
   "id": "91ca2c26",
   "metadata": {},
   "outputs": [],
   "source": [
    "X_train, y_train = problem.get_train_data()\n",
    "X_test, y_test = problem.get_test_data()"
   ]
  },
  {
   "cell_type": "code",
   "execution_count": 56,
   "id": "3d7fc58b",
   "metadata": {},
   "outputs": [
    {
     "name": "stdout",
     "output_type": "stream",
     "text": [
      "\n"
     ]
    }
   ],
   "source": [
    "# GridSearch for XGBRegressor\n",
    "\n",
    "\"\"\"xgb1 = XGBRegressor()\n",
    "parameters = {'nthread':[4], #when use hyperthread, xgboost may become slower\n",
    "          'objective':['reg:linear'],\n",
    "          'learning_rate': [.03, 0.05, .07], #so called `eta` value\n",
    "          'max_depth': [5, 6, 7],\n",
    "          'min_child_weight': [4],\n",
    "          'silent': [1],\n",
    "          'subsample': [0.7],\n",
    "          'colsample_bytree': [0.7],\n",
    "          'n_estimators': [100]}\n",
    "\n",
    "xgb_grid = GridSearchCV(xgb1,\n",
    "                    parameters,\n",
    "                    cv = 2,\n",
    "                    n_jobs = 5,\n",
    "                    verbose=True)\n",
    "\n",
    "xgb_grid.fit(pd.DataFrame(preprocessor.fit_transform(raw_data)), y)\n",
    "\n",
    "print(xgb_grid.best_score_)\n",
    "print(xgb_grid.best_params_)\n",
    "\"\"\"\n",
    "print()"
   ]
  },
  {
   "cell_type": "code",
   "execution_count": 34,
   "id": "08296a07",
   "metadata": {},
   "outputs": [],
   "source": [
    "pipeline = get_estimator()"
   ]
  },
  {
   "cell_type": "code",
   "execution_count": 37,
   "id": "0a73e1ba",
   "metadata": {
    "scrolled": false
   },
   "outputs": [
    {
     "name": "stdout",
     "output_type": "stream",
     "text": [
      "RMSE: 0.92 ± 0.184/nTime : 80.52760410308838\n"
     ]
    }
   ],
   "source": [
    "t1 = time.time()\n",
    "cv = TimeSeriesSplit(n_splits=4)\n",
    "scores = cross_val_score(pipeline, X_train, y_train, cv=cv, scoring='neg_root_mean_squared_error', error_score=np.nan)\n",
    "t2 = time.time()\n",
    "\n",
    "print(f'RMSE: {-scores.mean():.3} ± {(-scores).std():.3}/nTime : {t2-t1}')"
   ]
  },
  {
   "cell_type": "markdown",
   "id": "18cac533",
   "metadata": {},
   "source": [
    "#### RMSE obtained with different external datas added with HistGradientBoostingRegressor model : \n",
    "- {add_external_data, date_encoder, add_weather, preprocessor, regressor} : 1.79  \n",
    "- {date_encoder, add_weather, preprocessor, regressor} : 1.79  \n",
    "- {add_external_data, date_encoder, preprocessor, regressor} : 0.93  \n",
    " \n",
    "#### RMSE obtained with different models using the best combination of external datas : \n",
    "- HistGradientBoostingRegressor(random_state=0) : RMSE = 0.896 ± 0.226 ; Time = 113.76801896095276               \n",
    "- XGBRegressor : RMSE = 0.882 ± 0.231 ; Time = 593.0573832988739"
   ]
  },
  {
   "cell_type": "markdown",
   "id": "f2150c2c",
   "metadata": {},
   "source": [
    "## FEATURE IMPORTANCE"
   ]
  },
  {
   "cell_type": "code",
   "execution_count": 38,
   "id": "122ac311",
   "metadata": {},
   "outputs": [],
   "source": [
    "merger = pipeline[:2]\n",
    "X_train_augmented = merger.transform(X_train)\n",
    "X_test_augmented = merger.transform(X_test)\n",
    "\n",
    "predictor = pipeline[2:]\n",
    "_ = predictor.fit(X_train_augmented, y_train)"
   ]
  },
  {
   "cell_type": "code",
   "execution_count": 39,
   "id": "414a943b",
   "metadata": {},
   "outputs": [],
   "source": [
    "feature_importances = permutation_importance(predictor, \n",
    "                                             X_train_augmented[:20000], \n",
    "                                             y_train[:20000],\n",
    "                                             n_repeats=10,\n",
    "                                             random_state=0)"
   ]
  },
  {
   "cell_type": "code",
   "execution_count": 40,
   "id": "778e837e",
   "metadata": {},
   "outputs": [
    {
     "name": "stdout",
     "output_type": "stream",
     "text": [
      "Using matplotlib backend: MacOSX\n"
     ]
    }
   ],
   "source": [
    "sorted_idx = feature_importances.importances_mean.argsort()"
   ]
  },
  {
   "cell_type": "code",
   "execution_count": 53,
   "id": "b7fa6da1",
   "metadata": {},
   "outputs": [
    {
     "data": {
      "image/png": "[encoded data removed]",
      "text/plain": [
       "<Figure size 864x576 with 1 Axes>"
      ]
     },
     "metadata": {
      "needs_background": "light"
     },
     "output_type": "display_data"
    }
   ],
   "source": [
    "%matplotlib inline\n",
    "fig, ax = plt.subplots(figsize=(12, 8))\n",
    "ax.boxplot(feature_importances.importances[sorted_idx].T,\n",
    "           vert=False, labels=X_train_augmented.columns[sorted_idx])\n",
    "ax.set_title(\"Permutation Importances (train set)\")\n",
    "fig.tight_layout()\n",
    "plt.show()"
   ]
  },
  {
   "cell_type": "code",
   "execution_count": null,
   "id": "2771d841",
   "metadata": {},
   "outputs": [],
   "source": []
  }
 ],
 "metadata": {
  "kernelspec": {
   "display_name": "Python 3 (ipykernel)",
   "language": "python",
   "name": "python3"
  },
  "language_info": {
   "codemirror_mode": {
    "name": "ipython",
    "version": 3
   },
   "file_extension": ".py",
   "mimetype": "text/x-python",
   "name": "python",
   "nbconvert_exporter": "python",
   "pygments_lexer": "ipython3",
   "version": "3.9.7"
  }
 },
 "nbformat": 4,
 "nbformat_minor": 5
}
